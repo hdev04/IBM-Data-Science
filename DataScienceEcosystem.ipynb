{
 "cells": [
  {
   "cell_type": "markdown",
   "id": "ec454d3a-7cd0-4193-9ef3-95f454d99ad7",
   "metadata": {},
   "source": [
    "<h1>Data Science Tools and Ecosystem"
   ]
  },
  {
   "cell_type": "markdown",
   "id": "340eb107-bfa3-4797-9162-d38830408f1c",
   "metadata": {},
   "source": [
    "In this notebook, Data Science Tools and Ecosystem are summarized.<BR>\n",
    "<B>Objectives:<B>\n",
    "    <UL>\n",
    "    <LI>List popular languages for Data Science </LI>\n",
    "    <LI>List libraries used by Data Scientists </LI>\n",
    "    <LI>Data Science tools </LI>\n",
    "</UL>\n",
    "   "
   ]
  },
  {
   "cell_type": "markdown",
   "id": "ad184afd-ecc8-4eff-b48e-aab01bc19a7d",
   "metadata": {},
   "source": [
    "Some of the popular languages that Data Scientists use are:\n",
    "<OL>\n",
    "    <LI>Python </LI>\n",
    "    <LI>R </LI>\n",
    "    <LI>SQL </LI>\n",
    "</OL>\n",
    "   \n"
   ]
  },
  {
   "cell_type": "markdown",
   "id": "ecfb4425-ae55-4176-a75c-44146caa378a",
   "metadata": {},
   "source": [
    "Some of the commonly used libraries used by Data Scientists include:\n",
    "<OL>\n",
    "    <LI>NumPy </LI>\n",
    "    <LI>Matplotlib </LI>\n",
    "    <LI>Pandas </LI>\n",
    "</OL>\n"
   ]
  },
  {
   "cell_type": "markdown",
   "id": "c16f1968-5749-4e8f-bdd1-4106120097cf",
   "metadata": {},
   "source": [
    "<TABLE>\n",
    "    <TR>\n",
    "        <TH> Data Science Tools</TH>\n",
    "    </TR>          \n",
    "    <TR>\n",
    "        <TD> Jupyter Notebook</TD>\n",
    "    </TR>\n",
    "    <TR>\n",
    "        <TD> Apache Zeppelin</TD>\n",
    "    </TR>\n",
    "    <TR>\n",
    "        <TD> RStudio</TD>\n",
    "    </TR>\n",
    "</TABLE>"
   ]
  },
  {
   "cell_type": "markdown",
   "id": "90cc55db-0cc5-44a7-aef8-0c299d10cc00",
   "metadata": {},
   "source": [
    "<H3>Below are a few examples of evaluating arithmetic expressions in Python.</H3>"
   ]
  },
  {
   "cell_type": "code",
   "execution_count": 3,
   "id": "e54f38ab-981d-4264-a10d-471b68820914",
   "metadata": {
    "tags": []
   },
   "outputs": [
    {
     "data": {
      "text/plain": [
       "17"
      ]
     },
     "execution_count": 3,
     "metadata": {},
     "output_type": "execute_result"
    }
   ],
   "source": [
    "# This a simple arithmetic expression to mutiply then add integers\n",
    "(3*4)+5"
   ]
  },
  {
   "cell_type": "code",
   "execution_count": 4,
   "id": "ee0c87da-c6f9-4391-ae6c-77c4211dfa19",
   "metadata": {
    "tags": []
   },
   "outputs": [
    {
     "data": {
      "text/plain": [
       "3.3333333333333335"
      ]
     },
     "execution_count": 4,
     "metadata": {},
     "output_type": "execute_result"
    }
   ],
   "source": [
    "# This will convert 200 minutes to hours by diving by 60\n",
    "200/60"
   ]
  },
  {
   "cell_type": "markdown",
   "id": "da4b410d-cb59-4ef9-aac9-db23a711f415",
   "metadata": {},
   "source": [
    "<H2>Author </H2><BR>\n",
    "    Himasha Devanji\n"
   ]
  },
  {
   "cell_type": "code",
   "execution_count": null,
   "id": "f431a315-003c-4731-98e9-03996a683b7f",
   "metadata": {},
   "outputs": [],
   "source": []
  }
 ],
 "metadata": {
  "kernelspec": {
   "display_name": "Python",
   "language": "python",
   "name": "conda-env-python-py"
  },
  "language_info": {
   "codemirror_mode": {
    "name": "ipython",
    "version": 3
   },
   "file_extension": ".py",
   "mimetype": "text/x-python",
   "name": "python",
   "nbconvert_exporter": "python",
   "pygments_lexer": "ipython3",
   "version": "3.7.12"
  }
 },
 "nbformat": 4,
 "nbformat_minor": 5
}
